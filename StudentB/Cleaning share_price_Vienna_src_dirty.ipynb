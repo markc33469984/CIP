{
 "cells": [
  {
   "cell_type": "markdown",
   "metadata": {},
   "source": [
    "# 1. Cleaning up the dataset"
   ]
  },
  {
   "cell_type": "code",
   "execution_count": 2,
   "metadata": {},
   "outputs": [],
   "source": [
    "#!pip install statistics\n",
    "from statistics import mean\n",
    "import pandas as pd\n",
    "import seaborn as sns\n",
    "import matplotlib as plt\n",
    "import numpy as np"
   ]
  },
  {
   "cell_type": "code",
   "execution_count": 3,
   "metadata": {},
   "outputs": [
    {
     "data": {
      "text/html": [
       "<div>\n",
       "<style scoped>\n",
       "    .dataframe tbody tr th:only-of-type {\n",
       "        vertical-align: middle;\n",
       "    }\n",
       "\n",
       "    .dataframe tbody tr th {\n",
       "        vertical-align: top;\n",
       "    }\n",
       "\n",
       "    .dataframe thead th {\n",
       "        text-align: right;\n",
       "    }\n",
       "</style>\n",
       "<table border=\"1\" class=\"dataframe\">\n",
       "  <thead>\n",
       "    <tr style=\"text-align: right;\">\n",
       "      <th></th>\n",
       "      <th>Date</th>\n",
       "      <th>Open</th>\n",
       "      <th>High</th>\n",
       "      <th>Low</th>\n",
       "      <th>Close*</th>\n",
       "      <th>Adj Close**</th>\n",
       "      <th>Volume</th>\n",
       "    </tr>\n",
       "  </thead>\n",
       "  <tbody>\n",
       "    <tr>\n",
       "      <th>0</th>\n",
       "      <td>Oct 29, 2021</td>\n",
       "      <td>27.25</td>\n",
       "      <td>28.45</td>\n",
       "      <td>27.25</td>\n",
       "      <td>28.45</td>\n",
       "      <td>28.45</td>\n",
       "      <td>-</td>\n",
       "    </tr>\n",
       "    <tr>\n",
       "      <th>1</th>\n",
       "      <td>Oct 28, 2021</td>\n",
       "      <td>27.6</td>\n",
       "      <td>27.6</td>\n",
       "      <td>27.25</td>\n",
       "      <td>27.25</td>\n",
       "      <td>27.25</td>\n",
       "      <td>-</td>\n",
       "    </tr>\n",
       "    <tr>\n",
       "      <th>2</th>\n",
       "      <td>Oct 28, 2021</td>\n",
       "      <td>27.6</td>\n",
       "      <td>27.6</td>\n",
       "      <td>27.25</td>\n",
       "      <td>27.25</td>\n",
       "      <td>27.25</td>\n",
       "      <td>-</td>\n",
       "    </tr>\n",
       "    <tr>\n",
       "      <th>3</th>\n",
       "      <td>Oct 27, 2021</td>\n",
       "      <td>28.25</td>\n",
       "      <td>28.25</td>\n",
       "      <td>27.45</td>\n",
       "      <td>27.6</td>\n",
       "      <td>27.6</td>\n",
       "      <td>-</td>\n",
       "    </tr>\n",
       "    <tr>\n",
       "      <th>4</th>\n",
       "      <td>Oct 26, 2021</td>\n",
       "      <td>28.35</td>\n",
       "      <td>28.4</td>\n",
       "      <td>28.1</td>\n",
       "      <td>28.1</td>\n",
       "      <td>28.1</td>\n",
       "      <td>-</td>\n",
       "    </tr>\n",
       "  </tbody>\n",
       "</table>\n",
       "</div>"
      ],
      "text/plain": [
       "           Date   Open   High    Low Close* Adj Close** Volume\n",
       "0  Oct 29, 2021  27.25  28.45  27.25  28.45       28.45      -\n",
       "1  Oct 28, 2021   27.6   27.6  27.25  27.25       27.25      -\n",
       "2  Oct 28, 2021   27.6   27.6  27.25  27.25       27.25      -\n",
       "3  Oct 27, 2021  28.25  28.25  27.45   27.6        27.6      -\n",
       "4  Oct 26, 2021  28.35   28.4   28.1   28.1        28.1      -"
      ]
     },
     "execution_count": 3,
     "metadata": {},
     "output_type": "execute_result"
    }
   ],
   "source": [
    "df = pd.read_csv('/home/student/Desktop/Assignment/Scraped Data/Vienna Airport share price/share_price_Vienna_src_dirty.csv')\n",
    "df.head()"
   ]
  },
  {
   "cell_type": "code",
   "execution_count": 4,
   "metadata": {},
   "outputs": [
    {
     "data": {
      "text/plain": [
       "(726, 7)"
      ]
     },
     "execution_count": 4,
     "metadata": {},
     "output_type": "execute_result"
    }
   ],
   "source": [
    "df.shape"
   ]
  },
  {
   "cell_type": "markdown",
   "metadata": {},
   "source": [
    "# Issue 1: Dealing with NaNs\n",
    "### **Imputing using row's mean value**"
   ]
  },
  {
   "cell_type": "code",
   "execution_count": 11,
   "metadata": {},
   "outputs": [
    {
     "data": {
      "text/plain": [
       "Date           726\n",
       "Open           726\n",
       "High           723\n",
       "Low            724\n",
       "Close*         726\n",
       "Adj Close**    726\n",
       "Volume         726\n",
       "dtype: int64"
      ]
     },
     "execution_count": 11,
     "metadata": {},
     "output_type": "execute_result"
    }
   ],
   "source": [
    "df.count() ##seems that there some NaNs"
   ]
  },
  {
   "cell_type": "code",
   "execution_count": 12,
   "metadata": {},
   "outputs": [
    {
     "data": {
      "text/html": [
       "<div>\n",
       "<style scoped>\n",
       "    .dataframe tbody tr th:only-of-type {\n",
       "        vertical-align: middle;\n",
       "    }\n",
       "\n",
       "    .dataframe tbody tr th {\n",
       "        vertical-align: top;\n",
       "    }\n",
       "\n",
       "    .dataframe thead th {\n",
       "        text-align: right;\n",
       "    }\n",
       "</style>\n",
       "<table border=\"1\" class=\"dataframe\">\n",
       "  <thead>\n",
       "    <tr style=\"text-align: right;\">\n",
       "      <th></th>\n",
       "      <th>Date</th>\n",
       "      <th>Open</th>\n",
       "      <th>High</th>\n",
       "      <th>Low</th>\n",
       "      <th>Close*</th>\n",
       "      <th>Adj Close**</th>\n",
       "      <th>Volume</th>\n",
       "    </tr>\n",
       "  </thead>\n",
       "  <tbody>\n",
       "    <tr>\n",
       "      <th>157</th>\n",
       "      <td>Mar 24, 2021</td>\n",
       "      <td>29.5</td>\n",
       "      <td>NaN</td>\n",
       "      <td>28.7</td>\n",
       "      <td>28.95</td>\n",
       "      <td>28.95</td>\n",
       "      <td>-</td>\n",
       "    </tr>\n",
       "    <tr>\n",
       "      <th>200</th>\n",
       "      <td>Jan 22, 2021</td>\n",
       "      <td>28.95</td>\n",
       "      <td>NaN</td>\n",
       "      <td>28.55</td>\n",
       "      <td>29.1</td>\n",
       "      <td>29.1</td>\n",
       "      <td>-</td>\n",
       "    </tr>\n",
       "    <tr>\n",
       "      <th>218</th>\n",
       "      <td>Dec 23, 2020</td>\n",
       "      <td>27</td>\n",
       "      <td>28.1</td>\n",
       "      <td>NaN</td>\n",
       "      <td>28.1</td>\n",
       "      <td>28.1</td>\n",
       "      <td>-</td>\n",
       "    </tr>\n",
       "    <tr>\n",
       "      <th>267</th>\n",
       "      <td>Oct 16, 2020</td>\n",
       "      <td>21.85</td>\n",
       "      <td>21.85</td>\n",
       "      <td>NaN</td>\n",
       "      <td>21.25</td>\n",
       "      <td>21.25</td>\n",
       "      <td>-</td>\n",
       "    </tr>\n",
       "    <tr>\n",
       "      <th>293</th>\n",
       "      <td>Sep 10, 2020</td>\n",
       "      <td>25.35</td>\n",
       "      <td>NaN</td>\n",
       "      <td>25.35</td>\n",
       "      <td>25.45</td>\n",
       "      <td>25.45</td>\n",
       "      <td>-</td>\n",
       "    </tr>\n",
       "  </tbody>\n",
       "</table>\n",
       "</div>"
      ],
      "text/plain": [
       "             Date   Open   High    Low Close* Adj Close** Volume\n",
       "157  Mar 24, 2021   29.5    NaN   28.7  28.95       28.95      -\n",
       "200  Jan 22, 2021  28.95    NaN  28.55   29.1        29.1      -\n",
       "218  Dec 23, 2020     27   28.1    NaN   28.1        28.1      -\n",
       "267  Oct 16, 2020  21.85  21.85    NaN  21.25       21.25      -\n",
       "293  Sep 10, 2020  25.35    NaN  25.35  25.45       25.45      -"
      ]
     },
     "execution_count": 12,
     "metadata": {},
     "output_type": "execute_result"
    }
   ],
   "source": [
    "##identifying the NaNs\n",
    "df[df.isnull().any(axis=1)]"
   ]
  },
  {
   "cell_type": "code",
   "execution_count": 5,
   "metadata": {},
   "outputs": [
    {
     "name": "stdout",
     "output_type": "stream",
     "text": [
      "Int64Index([157, 200, 218, 267, 293], dtype='int64')\n"
     ]
    }
   ],
   "source": [
    "##fetching indices for row with NaNs\n",
    "print(df[df.isnull().any(1)].index)"
   ]
  },
  {
   "cell_type": "code",
   "execution_count": 8,
   "metadata": {
    "scrolled": true
   },
   "outputs": [],
   "source": [
    "null_indices = [157, 200, 218, 267, 293]"
   ]
  },
  {
   "cell_type": "code",
   "execution_count": 6,
   "metadata": {},
   "outputs": [],
   "source": [
    "def list_mean(list):\n",
    "    '''function to capture the values with a list, convert them all to floats and then calculate their mean\n",
    "    we do this because to make sure all values in a certain row are coerced into floats and gathered\n",
    "    into a list to be used to calculate the mean which we then use to impute the missing value within a row'''\n",
    "    ints=[]\n",
    "    for i in list:\n",
    "        if i == i:\n",
    "            ints.append(float(i))\n",
    "        else:\n",
    "            pass\n",
    "    return mean(ints)"
   ]
  },
  {
   "cell_type": "code",
   "execution_count": 9,
   "metadata": {},
   "outputs": [
    {
     "name": "stdout",
     "output_type": "stream",
     "text": [
      "Date           Mar 24, 2021\n",
      "Open                   29.5\n",
      "High                  29.05\n",
      "Low                    28.7\n",
      "Close*                28.95\n",
      "Adj Close**           28.95\n",
      "Volume                    -\n",
      "Name: 157, dtype: object\n",
      "Date           Jan 22, 2021\n",
      "Open                  28.95\n",
      "High              28.866667\n",
      "Low                   28.55\n",
      "Close*                 29.1\n",
      "Adj Close**            29.1\n",
      "Volume                    -\n",
      "Name: 200, dtype: object\n",
      "Date           Dec 23, 2020\n",
      "Open                     27\n",
      "High                   28.1\n",
      "Low               27.733333\n",
      "Close*                 28.1\n",
      "Adj Close**            28.1\n",
      "Volume                    -\n",
      "Name: 218, dtype: object\n",
      "Date           Oct 16, 2020\n",
      "Open                  21.85\n",
      "High                  21.85\n",
      "Low                   21.65\n",
      "Close*                21.25\n",
      "Adj Close**           21.25\n",
      "Volume                    -\n",
      "Name: 267, dtype: object\n",
      "Date           Sep 10, 2020\n",
      "Open                  25.35\n",
      "High              25.383333\n",
      "Low                   25.35\n",
      "Close*                25.45\n",
      "Adj Close**           25.45\n",
      "Volume                    -\n",
      "Name: 293, dtype: object\n"
     ]
    }
   ],
   "source": [
    "##applying the function to all rows containing nulls to impute the missing values\n",
    "##using the mean of the respective row\n",
    "for i in null_indices:\n",
    "    y = list_mean(list(df.iloc[i,1:5]))\n",
    "    df.iloc[i, 1:5].fillna(y, inplace= True)\n",
    "    print(df.iloc[i,])"
   ]
  },
  {
   "cell_type": "code",
   "execution_count": 10,
   "metadata": {},
   "outputs": [
    {
     "data": {
      "text/plain": [
       "Open       29.5\n",
       "High      29.05\n",
       "Low        28.7\n",
       "Close*    28.95\n",
       "Name: 157, dtype: object"
      ]
     },
     "execution_count": 10,
     "metadata": {},
     "output_type": "execute_result"
    }
   ],
   "source": [
    "##let's check with row 157\n",
    "df.iloc[157,1:5]"
   ]
  },
  {
   "cell_type": "code",
   "execution_count": 11,
   "metadata": {},
   "outputs": [
    {
     "data": {
      "text/plain": [
       "Date           726\n",
       "Open           726\n",
       "High           726\n",
       "Low            726\n",
       "Close*         726\n",
       "Adj Close**    726\n",
       "Volume         726\n",
       "dtype: int64"
      ]
     },
     "execution_count": 11,
     "metadata": {},
     "output_type": "execute_result"
    }
   ],
   "source": [
    "df.count() ## no more NaNs"
   ]
  },
  {
   "cell_type": "markdown",
   "metadata": {},
   "source": [
    "# Issue 2: Removing duplicates"
   ]
  },
  {
   "cell_type": "code",
   "execution_count": 12,
   "metadata": {},
   "outputs": [
    {
     "data": {
      "text/html": [
       "<div>\n",
       "<style scoped>\n",
       "    .dataframe tbody tr th:only-of-type {\n",
       "        vertical-align: middle;\n",
       "    }\n",
       "\n",
       "    .dataframe tbody tr th {\n",
       "        vertical-align: top;\n",
       "    }\n",
       "\n",
       "    .dataframe thead th {\n",
       "        text-align: right;\n",
       "    }\n",
       "</style>\n",
       "<table border=\"1\" class=\"dataframe\">\n",
       "  <thead>\n",
       "    <tr style=\"text-align: right;\">\n",
       "      <th></th>\n",
       "      <th>Date</th>\n",
       "      <th>Open</th>\n",
       "      <th>High</th>\n",
       "      <th>Low</th>\n",
       "      <th>Close*</th>\n",
       "      <th>Adj Close**</th>\n",
       "      <th>Volume</th>\n",
       "    </tr>\n",
       "  </thead>\n",
       "  <tbody>\n",
       "    <tr>\n",
       "      <th>2</th>\n",
       "      <td>Oct 28, 2021</td>\n",
       "      <td>27.6</td>\n",
       "      <td>27.6</td>\n",
       "      <td>27.25</td>\n",
       "      <td>27.25</td>\n",
       "      <td>27.25</td>\n",
       "      <td>-</td>\n",
       "    </tr>\n",
       "    <tr>\n",
       "      <th>60</th>\n",
       "      <td>Aug 10, 2021</td>\n",
       "      <td>27.8</td>\n",
       "      <td>27.95</td>\n",
       "      <td>27.7</td>\n",
       "      <td>27.85</td>\n",
       "      <td>27.85</td>\n",
       "      <td>-</td>\n",
       "    </tr>\n",
       "    <tr>\n",
       "      <th>137</th>\n",
       "      <td>Apr 23, 2021</td>\n",
       "      <td>30.05</td>\n",
       "      <td>30.2</td>\n",
       "      <td>29.7</td>\n",
       "      <td>30</td>\n",
       "      <td>30</td>\n",
       "      <td>-</td>\n",
       "    </tr>\n",
       "    <tr>\n",
       "      <th>566</th>\n",
       "      <td>Aug 15, 2019</td>\n",
       "      <td>40</td>\n",
       "      <td>40.2</td>\n",
       "      <td>39.55</td>\n",
       "      <td>40.2</td>\n",
       "      <td>36.87</td>\n",
       "      <td>-</td>\n",
       "    </tr>\n",
       "  </tbody>\n",
       "</table>\n",
       "</div>"
      ],
      "text/plain": [
       "             Date   Open   High    Low Close* Adj Close** Volume\n",
       "2    Oct 28, 2021   27.6   27.6  27.25  27.25       27.25      -\n",
       "60   Aug 10, 2021   27.8  27.95   27.7  27.85       27.85      -\n",
       "137  Apr 23, 2021  30.05   30.2   29.7     30          30      -\n",
       "566  Aug 15, 2019     40   40.2  39.55   40.2       36.87      -"
      ]
     },
     "execution_count": 12,
     "metadata": {},
     "output_type": "execute_result"
    }
   ],
   "source": [
    "##checking for duplicates\n",
    "df[df.duplicated()]"
   ]
  },
  {
   "cell_type": "code",
   "execution_count": 13,
   "metadata": {},
   "outputs": [],
   "source": [
    "##dropping duplicates\n",
    "df.drop_duplicates(inplace=True)"
   ]
  },
  {
   "cell_type": "code",
   "execution_count": 14,
   "metadata": {},
   "outputs": [
    {
     "data": {
      "text/plain": [
       "(722, 7)"
      ]
     },
     "execution_count": 14,
     "metadata": {},
     "output_type": "execute_result"
    }
   ],
   "source": [
    "##check again... voila\n",
    "df[df.duplicated()]\n",
    "df.shape"
   ]
  },
  {
   "cell_type": "markdown",
   "metadata": {},
   "source": [
    "# Issues 3 & 4: Adjusting data types and removing rows with non-relevant information"
   ]
  },
  {
   "cell_type": "markdown",
   "metadata": {},
   "source": [
    "### Converting the 'Date' column to date format "
   ]
  },
  {
   "cell_type": "code",
   "execution_count": 15,
   "metadata": {},
   "outputs": [
    {
     "data": {
      "text/plain": [
       "Date           object\n",
       "Open           object\n",
       "High           object\n",
       "Low            object\n",
       "Close*         object\n",
       "Adj Close**    object\n",
       "Volume         object\n",
       "dtype: object"
      ]
     },
     "execution_count": 15,
     "metadata": {},
     "output_type": "execute_result"
    }
   ],
   "source": [
    "df.dtypes ##all are objects"
   ]
  },
  {
   "cell_type": "code",
   "execution_count": null,
   "metadata": {},
   "outputs": [],
   "source": [
    "df['Date'] = pd.to_datetime(df['Date'])\n",
    "\n",
    "##Error: Unknown string format: *Close price adjusted for splits.**Adjusted close price adjusted for splits and dividend and/or capital gain distributions."
   ]
  },
  {
   "cell_type": "code",
   "execution_count": 17,
   "metadata": {},
   "outputs": [
    {
     "data": {
      "text/html": [
       "<div>\n",
       "<style scoped>\n",
       "    .dataframe tbody tr th:only-of-type {\n",
       "        vertical-align: middle;\n",
       "    }\n",
       "\n",
       "    .dataframe tbody tr th {\n",
       "        vertical-align: top;\n",
       "    }\n",
       "\n",
       "    .dataframe thead th {\n",
       "        text-align: right;\n",
       "    }\n",
       "</style>\n",
       "<table border=\"1\" class=\"dataframe\">\n",
       "  <thead>\n",
       "    <tr style=\"text-align: right;\">\n",
       "      <th></th>\n",
       "      <th>Date</th>\n",
       "      <th>Open</th>\n",
       "      <th>High</th>\n",
       "      <th>Low</th>\n",
       "      <th>Close*</th>\n",
       "      <th>Adj Close**</th>\n",
       "      <th>Volume</th>\n",
       "    </tr>\n",
       "  </thead>\n",
       "  <tbody>\n",
       "    <tr>\n",
       "      <th>725</th>\n",
       "      <td>*Close price adjusted for splits.**Adjusted cl...</td>\n",
       "      <td>*Close price adjusted for splits.**Adjusted cl...</td>\n",
       "      <td>*Close price adjusted for splits.**Adjusted cl...</td>\n",
       "      <td>*Close price adjusted for splits.**Adjusted cl...</td>\n",
       "      <td>*Close price adjusted for splits.**Adjusted cl...</td>\n",
       "      <td>*Close price adjusted for splits.**Adjusted cl...</td>\n",
       "      <td>*Close price adjusted for splits.**Adjusted cl...</td>\n",
       "    </tr>\n",
       "  </tbody>\n",
       "</table>\n",
       "</div>"
      ],
      "text/plain": [
       "                                                  Date  \\\n",
       "725  *Close price adjusted for splits.**Adjusted cl...   \n",
       "\n",
       "                                                  Open  \\\n",
       "725  *Close price adjusted for splits.**Adjusted cl...   \n",
       "\n",
       "                                                  High  \\\n",
       "725  *Close price adjusted for splits.**Adjusted cl...   \n",
       "\n",
       "                                                   Low  \\\n",
       "725  *Close price adjusted for splits.**Adjusted cl...   \n",
       "\n",
       "                                                Close*  \\\n",
       "725  *Close price adjusted for splits.**Adjusted cl...   \n",
       "\n",
       "                                           Adj Close**  \\\n",
       "725  *Close price adjusted for splits.**Adjusted cl...   \n",
       "\n",
       "                                                Volume  \n",
       "725  *Close price adjusted for splits.**Adjusted cl...  "
      ]
     },
     "execution_count": 17,
     "metadata": {},
     "output_type": "execute_result"
    }
   ],
   "source": [
    "##looking for the incompatible/unknown string format\n",
    "row = df.apply(lambda row: row.astype(str).str.contains('Close').any(), axis=1) \n",
    "df[row]"
   ]
  },
  {
   "cell_type": "code",
   "execution_count": 18,
   "metadata": {},
   "outputs": [
    {
     "data": {
      "text/plain": [
       "(721, 7)"
      ]
     },
     "execution_count": 18,
     "metadata": {},
     "output_type": "execute_result"
    }
   ],
   "source": [
    "##dropping problematic row\n",
    "df.drop(axis=0, index=725, inplace= True)\n",
    "df.shape"
   ]
  },
  {
   "cell_type": "code",
   "execution_count": 19,
   "metadata": {},
   "outputs": [
    {
     "data": {
      "text/html": [
       "<div>\n",
       "<style scoped>\n",
       "    .dataframe tbody tr th:only-of-type {\n",
       "        vertical-align: middle;\n",
       "    }\n",
       "\n",
       "    .dataframe tbody tr th {\n",
       "        vertical-align: top;\n",
       "    }\n",
       "\n",
       "    .dataframe thead th {\n",
       "        text-align: right;\n",
       "    }\n",
       "</style>\n",
       "<table border=\"1\" class=\"dataframe\">\n",
       "  <thead>\n",
       "    <tr style=\"text-align: right;\">\n",
       "      <th></th>\n",
       "      <th>Date</th>\n",
       "      <th>Open</th>\n",
       "      <th>High</th>\n",
       "      <th>Low</th>\n",
       "      <th>Close*</th>\n",
       "      <th>Adj Close**</th>\n",
       "      <th>Volume</th>\n",
       "    </tr>\n",
       "  </thead>\n",
       "  <tbody>\n",
       "  </tbody>\n",
       "</table>\n",
       "</div>"
      ],
      "text/plain": [
       "Empty DataFrame\n",
       "Columns: [Date, Open, High, Low, Close*, Adj Close**, Volume]\n",
       "Index: []"
      ]
     },
     "execution_count": 19,
     "metadata": {},
     "output_type": "execute_result"
    }
   ],
   "source": [
    "##check again\n",
    "row = df.apply(lambda row: row.astype(str).str.contains('Close').any(), axis=1) \n",
    "df[row]"
   ]
  },
  {
   "cell_type": "code",
   "execution_count": 20,
   "metadata": {},
   "outputs": [],
   "source": [
    "##try adjusting data column type again\n",
    "df['Date'] = pd.to_datetime(df['Date'])"
   ]
  },
  {
   "cell_type": "markdown",
   "metadata": {},
   "source": [
    "### Converting the rest of the columns to float type"
   ]
  },
  {
   "cell_type": "code",
   "execution_count": null,
   "metadata": {},
   "outputs": [],
   "source": [
    "df[[\"Open\", \"High\", \"Low\", \"Close*\", \"Adj Close**\", \"Volume\"]] = df[[\"Open\", \"High\", \"Low\", \"Close*\", \"Adj Close**\", \"Volume\"]].apply(pd.to_numeric)\n",
    "\n",
    "##ValueError: Unable to parse string \"1.13 Dividend\" at position 293"
   ]
  },
  {
   "cell_type": "code",
   "execution_count": 22,
   "metadata": {},
   "outputs": [
    {
     "data": {
      "text/html": [
       "<div>\n",
       "<style scoped>\n",
       "    .dataframe tbody tr th:only-of-type {\n",
       "        vertical-align: middle;\n",
       "    }\n",
       "\n",
       "    .dataframe tbody tr th {\n",
       "        vertical-align: top;\n",
       "    }\n",
       "\n",
       "    .dataframe thead th {\n",
       "        text-align: right;\n",
       "    }\n",
       "</style>\n",
       "<table border=\"1\" class=\"dataframe\">\n",
       "  <thead>\n",
       "    <tr style=\"text-align: right;\">\n",
       "      <th></th>\n",
       "      <th>Date</th>\n",
       "      <th>Open</th>\n",
       "      <th>High</th>\n",
       "      <th>Low</th>\n",
       "      <th>Close*</th>\n",
       "      <th>Adj Close**</th>\n",
       "      <th>Volume</th>\n",
       "    </tr>\n",
       "  </thead>\n",
       "  <tbody>\n",
       "    <tr>\n",
       "      <th>296</th>\n",
       "      <td>2020-09-08</td>\n",
       "      <td>1.13 Dividend</td>\n",
       "      <td>1.13 Dividend</td>\n",
       "      <td>1.13 Dividend</td>\n",
       "      <td>1.13 Dividend</td>\n",
       "      <td>1.13 Dividend</td>\n",
       "      <td>1.13 Dividend</td>\n",
       "    </tr>\n",
       "    <tr>\n",
       "      <th>367</th>\n",
       "      <td>2020-06-02</td>\n",
       "      <td>1.13 Dividend</td>\n",
       "      <td>1.13 Dividend</td>\n",
       "      <td>1.13 Dividend</td>\n",
       "      <td>1.13 Dividend</td>\n",
       "      <td>1.13 Dividend</td>\n",
       "      <td>1.13 Dividend</td>\n",
       "    </tr>\n",
       "    <tr>\n",
       "      <th>638</th>\n",
       "      <td>2019-05-07</td>\n",
       "      <td>0.89 Dividend</td>\n",
       "      <td>0.89 Dividend</td>\n",
       "      <td>0.89 Dividend</td>\n",
       "      <td>0.89 Dividend</td>\n",
       "      <td>0.89 Dividend</td>\n",
       "      <td>0.89 Dividend</td>\n",
       "    </tr>\n",
       "  </tbody>\n",
       "</table>\n",
       "</div>"
      ],
      "text/plain": [
       "          Date           Open           High            Low         Close*  \\\n",
       "296 2020-09-08  1.13 Dividend  1.13 Dividend  1.13 Dividend  1.13 Dividend   \n",
       "367 2020-06-02  1.13 Dividend  1.13 Dividend  1.13 Dividend  1.13 Dividend   \n",
       "638 2019-05-07  0.89 Dividend  0.89 Dividend  0.89 Dividend  0.89 Dividend   \n",
       "\n",
       "       Adj Close**         Volume  \n",
       "296  1.13 Dividend  1.13 Dividend  \n",
       "367  1.13 Dividend  1.13 Dividend  \n",
       "638  0.89 Dividend  0.89 Dividend  "
      ]
     },
     "execution_count": 22,
     "metadata": {},
     "output_type": "execute_result"
    }
   ],
   "source": [
    "##looking for problematic rows\n",
    "rows = df.apply(lambda row: row.astype(str).str.contains('Dividend').any(), axis=1) \n",
    "df[rows]\n",
    "\n",
    "##three rows with indeces 296, 367 and 638"
   ]
  },
  {
   "cell_type": "code",
   "execution_count": 23,
   "metadata": {},
   "outputs": [
    {
     "data": {
      "text/plain": [
       "(718, 7)"
      ]
     },
     "execution_count": 23,
     "metadata": {},
     "output_type": "execute_result"
    }
   ],
   "source": [
    "##dropping problematic rows\n",
    "df.drop(axis=0, index=[296,367,638], inplace= True)\n",
    "df.shape"
   ]
  },
  {
   "cell_type": "code",
   "execution_count": null,
   "metadata": {},
   "outputs": [],
   "source": [
    "##try adjusting types again\n",
    "##adjusting the rest of the columns to numeeric\n",
    "df[[\"Open\", \"High\", \"Low\", \"Close*\", \"Adj Close**\", \"Volume\"]] = df[[\"Open\", \"High\", \"Low\", \"Close*\", \"Adj Close**\", \"Volume\"]].apply(pd.to_numeric)\n",
    "\n",
    "##ValueError: Unable to parse string \"-\" at position 0"
   ]
  },
  {
   "cell_type": "code",
   "execution_count": 25,
   "metadata": {},
   "outputs": [
    {
     "data": {
      "text/plain": [
       "-      692\n",
       "100      3\n",
       "30       2\n",
       "191      2\n",
       "160      1\n",
       "15       1\n",
       "25       1\n",
       "142      1\n",
       "38       1\n",
       "190      1\n",
       "60       1\n",
       "256      1\n",
       "50       1\n",
       "1        1\n",
       "5        1\n",
       "400      1\n",
       "20       1\n",
       "40       1\n",
       "8        1\n",
       "352      1\n",
       "300      1\n",
       "200      1\n",
       "11       1\n",
       "Name: Volume, dtype: int64"
      ]
     },
     "execution_count": 25,
     "metadata": {},
     "output_type": "execute_result"
    }
   ],
   "source": [
    "df['Volume'].value_counts()\n",
    "\n",
    "##692 of the enteries in the Volume column are \"-\", so we drop this column"
   ]
  },
  {
   "cell_type": "code",
   "execution_count": 26,
   "metadata": {},
   "outputs": [],
   "source": [
    "##dropping \"Volume\" Column\n",
    "df.drop(columns = 'Volume', inplace = True)"
   ]
  },
  {
   "cell_type": "code",
   "execution_count": 27,
   "metadata": {},
   "outputs": [
    {
     "data": {
      "text/html": [
       "<div>\n",
       "<style scoped>\n",
       "    .dataframe tbody tr th:only-of-type {\n",
       "        vertical-align: middle;\n",
       "    }\n",
       "\n",
       "    .dataframe tbody tr th {\n",
       "        vertical-align: top;\n",
       "    }\n",
       "\n",
       "    .dataframe thead th {\n",
       "        text-align: right;\n",
       "    }\n",
       "</style>\n",
       "<table border=\"1\" class=\"dataframe\">\n",
       "  <thead>\n",
       "    <tr style=\"text-align: right;\">\n",
       "      <th></th>\n",
       "      <th>Date</th>\n",
       "      <th>Open</th>\n",
       "      <th>High</th>\n",
       "      <th>Low</th>\n",
       "      <th>Close*</th>\n",
       "      <th>Adj Close**</th>\n",
       "    </tr>\n",
       "  </thead>\n",
       "  <tbody>\n",
       "    <tr>\n",
       "      <th>0</th>\n",
       "      <td>2021-10-29</td>\n",
       "      <td>27.25</td>\n",
       "      <td>28.45</td>\n",
       "      <td>27.25</td>\n",
       "      <td>28.45</td>\n",
       "      <td>28.45</td>\n",
       "    </tr>\n",
       "    <tr>\n",
       "      <th>1</th>\n",
       "      <td>2021-10-28</td>\n",
       "      <td>27.6</td>\n",
       "      <td>27.6</td>\n",
       "      <td>27.25</td>\n",
       "      <td>27.25</td>\n",
       "      <td>27.25</td>\n",
       "    </tr>\n",
       "    <tr>\n",
       "      <th>3</th>\n",
       "      <td>2021-10-27</td>\n",
       "      <td>28.25</td>\n",
       "      <td>28.25</td>\n",
       "      <td>27.45</td>\n",
       "      <td>27.6</td>\n",
       "      <td>27.6</td>\n",
       "    </tr>\n",
       "    <tr>\n",
       "      <th>4</th>\n",
       "      <td>2021-10-26</td>\n",
       "      <td>28.35</td>\n",
       "      <td>28.4</td>\n",
       "      <td>28.1</td>\n",
       "      <td>28.1</td>\n",
       "      <td>28.1</td>\n",
       "    </tr>\n",
       "    <tr>\n",
       "      <th>5</th>\n",
       "      <td>2021-10-25</td>\n",
       "      <td>28.6</td>\n",
       "      <td>28.6</td>\n",
       "      <td>28.25</td>\n",
       "      <td>28.25</td>\n",
       "      <td>28.25</td>\n",
       "    </tr>\n",
       "  </tbody>\n",
       "</table>\n",
       "</div>"
      ],
      "text/plain": [
       "        Date   Open   High    Low Close* Adj Close**\n",
       "0 2021-10-29  27.25  28.45  27.25  28.45       28.45\n",
       "1 2021-10-28   27.6   27.6  27.25  27.25       27.25\n",
       "3 2021-10-27  28.25  28.25  27.45   27.6        27.6\n",
       "4 2021-10-26  28.35   28.4   28.1   28.1        28.1\n",
       "5 2021-10-25   28.6   28.6  28.25  28.25       28.25"
      ]
     },
     "execution_count": 27,
     "metadata": {},
     "output_type": "execute_result"
    }
   ],
   "source": [
    "df.head()"
   ]
  },
  {
   "cell_type": "code",
   "execution_count": 28,
   "metadata": {},
   "outputs": [
    {
     "data": {
      "text/plain": [
       "Date           datetime64[ns]\n",
       "Open                  float64\n",
       "High                  float64\n",
       "Low                   float64\n",
       "Close*                float64\n",
       "Adj Close**           float64\n",
       "dtype: object"
      ]
     },
     "execution_count": 28,
     "metadata": {},
     "output_type": "execute_result"
    }
   ],
   "source": [
    "##try adjusting type again\n",
    "df[[\"Open\", \"High\", \"Low\", \"Close*\", \"Adj Close**\"]] = df[[\"Open\", \"High\", \"Low\", \"Close*\", \"Adj Close**\"]].apply(pd.to_numeric)\n",
    "\n",
    "##check types\n",
    "df.dtypes ##now everthing has the correct data type"
   ]
  },
  {
   "cell_type": "code",
   "execution_count": 29,
   "metadata": {},
   "outputs": [],
   "source": [
    "##resetting the index \n",
    "df.reset_index(inplace=True) "
   ]
  },
  {
   "cell_type": "markdown",
   "metadata": {},
   "source": [
    "# Issue 5: Handling Outliers"
   ]
  },
  {
   "cell_type": "code",
   "execution_count": 30,
   "metadata": {},
   "outputs": [
    {
     "data": {
      "text/plain": [
       "<AxesSubplot:>"
      ]
     },
     "execution_count": 30,
     "metadata": {},
     "output_type": "execute_result"
    },
    {
     "data": {
      "image/png": "[encoded data removed]",
      "text/plain": [
       "<Figure size 432x288 with 1 Axes>"
      ]
     },
     "metadata": {
      "needs_background": "light"
     },
     "output_type": "display_data"
    }
   ],
   "source": [
    "##checking if there are outliers\n",
    "df.boxplot() ##outliers in columns Open, High and Close* columns"
   ]
  },
  {
   "cell_type": "code",
   "execution_count": 31,
   "metadata": {},
   "outputs": [
    {
     "data": {
      "text/plain": [
       "Int64Index([576, 586], dtype='int64')"
      ]
     },
     "execution_count": 31,
     "metadata": {},
     "output_type": "execute_result"
    }
   ],
   "source": [
    "##identifying the rows with outlier values\n",
    "#df.index[df['Open'] >500] #374\n",
    "#df.index[df['High'] >500] #427\n",
    "df.index[df['Close*'] >500] #576, 586"
   ]
  },
  {
   "cell_type": "code",
   "execution_count": 36,
   "metadata": {},
   "outputs": [
    {
     "data": {
      "text/plain": [
       "index          718\n",
       "Date           718\n",
       "Open           717\n",
       "High           717\n",
       "Low            718\n",
       "Close*         716\n",
       "Adj Close**    718\n",
       "dtype: int64"
      ]
     },
     "execution_count": 36,
     "metadata": {},
     "output_type": "execute_result"
    }
   ],
   "source": [
    "##replacing outliers with nans\n",
    "df[df.iloc[:, 2:6] >500] = np.nan\n",
    "df.count()"
   ]
  },
  {
   "cell_type": "code",
   "execution_count": null,
   "metadata": {},
   "outputs": [],
   "source": [
    "##filling up the NaNs with mean values\n",
    "##a copy of the dataframe has to be created; pandas fillna inplace does not work with np.nan\n",
    "df2 = df.fillna(df.mean())"
   ]
  },
  {
   "cell_type": "code",
   "execution_count": 38,
   "metadata": {},
   "outputs": [],
   "source": [
    "##refelct changes in original dataset\n",
    "df=df2"
   ]
  },
  {
   "cell_type": "code",
   "execution_count": 39,
   "metadata": {},
   "outputs": [
    {
     "data": {
      "text/plain": [
       "index                          582\n",
       "Date           2019-07-24 00:00:00\n",
       "Open                         39.85\n",
       "High                         39.85\n",
       "Low                           39.5\n",
       "Close*                   31.469972\n",
       "Adj Close**                  36.23\n",
       "Name: 576, dtype: object"
      ]
     },
     "execution_count": 39,
     "metadata": {},
     "output_type": "execute_result"
    }
   ],
   "source": [
    "##check if it worked\n",
    "df.iloc[576, :]"
   ]
  },
  {
   "cell_type": "markdown",
   "metadata": {},
   "source": [
    "# Lastly adjust column names"
   ]
  },
  {
   "cell_type": "code",
   "execution_count": 40,
   "metadata": {},
   "outputs": [],
   "source": [
    "df.rename(columns={'Close*': 'Close', 'Adj Close**': 'Adj _Close'}, inplace=True)"
   ]
  },
  {
   "cell_type": "code",
   "execution_count": 41,
   "metadata": {},
   "outputs": [
    {
     "data": {
      "text/plain": [
       "Index(['index', 'Date', 'Open', 'High', 'Low', 'Close', 'Adj _Close'], dtype='object')"
      ]
     },
     "execution_count": 41,
     "metadata": {},
     "output_type": "execute_result"
    }
   ],
   "source": [
    "df.columns"
   ]
  },
  {
   "cell_type": "code",
   "execution_count": 42,
   "metadata": {},
   "outputs": [],
   "source": [
    "##drop index column\n",
    "df.drop(columns = 'index', inplace = True)"
   ]
  },
  {
   "cell_type": "code",
   "execution_count": 43,
   "metadata": {},
   "outputs": [
    {
     "data": {
      "text/html": [
       "<div>\n",
       "<style scoped>\n",
       "    .dataframe tbody tr th:only-of-type {\n",
       "        vertical-align: middle;\n",
       "    }\n",
       "\n",
       "    .dataframe tbody tr th {\n",
       "        vertical-align: top;\n",
       "    }\n",
       "\n",
       "    .dataframe thead th {\n",
       "        text-align: right;\n",
       "    }\n",
       "</style>\n",
       "<table border=\"1\" class=\"dataframe\">\n",
       "  <thead>\n",
       "    <tr style=\"text-align: right;\">\n",
       "      <th></th>\n",
       "      <th>Date</th>\n",
       "      <th>Open</th>\n",
       "      <th>High</th>\n",
       "      <th>Low</th>\n",
       "      <th>Close</th>\n",
       "      <th>Adj _Close</th>\n",
       "    </tr>\n",
       "  </thead>\n",
       "  <tbody>\n",
       "    <tr>\n",
       "      <th>0</th>\n",
       "      <td>2021-10-29</td>\n",
       "      <td>27.25</td>\n",
       "      <td>28.45</td>\n",
       "      <td>27.25</td>\n",
       "      <td>28.45</td>\n",
       "      <td>28.45</td>\n",
       "    </tr>\n",
       "    <tr>\n",
       "      <th>1</th>\n",
       "      <td>2021-10-28</td>\n",
       "      <td>27.60</td>\n",
       "      <td>27.60</td>\n",
       "      <td>27.25</td>\n",
       "      <td>27.25</td>\n",
       "      <td>27.25</td>\n",
       "    </tr>\n",
       "    <tr>\n",
       "      <th>2</th>\n",
       "      <td>2021-10-27</td>\n",
       "      <td>28.25</td>\n",
       "      <td>28.25</td>\n",
       "      <td>27.45</td>\n",
       "      <td>27.60</td>\n",
       "      <td>27.60</td>\n",
       "    </tr>\n",
       "    <tr>\n",
       "      <th>3</th>\n",
       "      <td>2021-10-26</td>\n",
       "      <td>28.35</td>\n",
       "      <td>28.40</td>\n",
       "      <td>28.10</td>\n",
       "      <td>28.10</td>\n",
       "      <td>28.10</td>\n",
       "    </tr>\n",
       "    <tr>\n",
       "      <th>4</th>\n",
       "      <td>2021-10-25</td>\n",
       "      <td>28.60</td>\n",
       "      <td>28.60</td>\n",
       "      <td>28.25</td>\n",
       "      <td>28.25</td>\n",
       "      <td>28.25</td>\n",
       "    </tr>\n",
       "  </tbody>\n",
       "</table>\n",
       "</div>"
      ],
      "text/plain": [
       "        Date   Open   High    Low  Close  Adj _Close\n",
       "0 2021-10-29  27.25  28.45  27.25  28.45       28.45\n",
       "1 2021-10-28  27.60  27.60  27.25  27.25       27.25\n",
       "2 2021-10-27  28.25  28.25  27.45  27.60       27.60\n",
       "3 2021-10-26  28.35  28.40  28.10  28.10       28.10\n",
       "4 2021-10-25  28.60  28.60  28.25  28.25       28.25"
      ]
     },
     "execution_count": 43,
     "metadata": {},
     "output_type": "execute_result"
    }
   ],
   "source": [
    "df.head()"
   ]
  },
  {
   "cell_type": "markdown",
   "metadata": {},
   "source": [
    "# 2. Enriching the dataset"
   ]
  },
  {
   "cell_type": "code",
   "execution_count": 44,
   "metadata": {},
   "outputs": [],
   "source": [
    "##adding a column with the average daily values\n",
    "df['average'] = df.mean(numeric_only=True, axis=1)"
   ]
  },
  {
   "cell_type": "code",
   "execution_count": 45,
   "metadata": {},
   "outputs": [
    {
     "data": {
      "text/html": [
       "<div>\n",
       "<style scoped>\n",
       "    .dataframe tbody tr th:only-of-type {\n",
       "        vertical-align: middle;\n",
       "    }\n",
       "\n",
       "    .dataframe tbody tr th {\n",
       "        vertical-align: top;\n",
       "    }\n",
       "\n",
       "    .dataframe thead th {\n",
       "        text-align: right;\n",
       "    }\n",
       "</style>\n",
       "<table border=\"1\" class=\"dataframe\">\n",
       "  <thead>\n",
       "    <tr style=\"text-align: right;\">\n",
       "      <th></th>\n",
       "      <th>Date</th>\n",
       "      <th>Open</th>\n",
       "      <th>High</th>\n",
       "      <th>Low</th>\n",
       "      <th>Close</th>\n",
       "      <th>Adj _Close</th>\n",
       "      <th>average</th>\n",
       "    </tr>\n",
       "  </thead>\n",
       "  <tbody>\n",
       "    <tr>\n",
       "      <th>0</th>\n",
       "      <td>2021-10-29</td>\n",
       "      <td>27.25</td>\n",
       "      <td>28.45</td>\n",
       "      <td>27.25</td>\n",
       "      <td>28.45</td>\n",
       "      <td>28.45</td>\n",
       "      <td>27.97</td>\n",
       "    </tr>\n",
       "    <tr>\n",
       "      <th>1</th>\n",
       "      <td>2021-10-28</td>\n",
       "      <td>27.60</td>\n",
       "      <td>27.60</td>\n",
       "      <td>27.25</td>\n",
       "      <td>27.25</td>\n",
       "      <td>27.25</td>\n",
       "      <td>27.39</td>\n",
       "    </tr>\n",
       "    <tr>\n",
       "      <th>2</th>\n",
       "      <td>2021-10-27</td>\n",
       "      <td>28.25</td>\n",
       "      <td>28.25</td>\n",
       "      <td>27.45</td>\n",
       "      <td>27.60</td>\n",
       "      <td>27.60</td>\n",
       "      <td>27.83</td>\n",
       "    </tr>\n",
       "    <tr>\n",
       "      <th>3</th>\n",
       "      <td>2021-10-26</td>\n",
       "      <td>28.35</td>\n",
       "      <td>28.40</td>\n",
       "      <td>28.10</td>\n",
       "      <td>28.10</td>\n",
       "      <td>28.10</td>\n",
       "      <td>28.21</td>\n",
       "    </tr>\n",
       "    <tr>\n",
       "      <th>4</th>\n",
       "      <td>2021-10-25</td>\n",
       "      <td>28.60</td>\n",
       "      <td>28.60</td>\n",
       "      <td>28.25</td>\n",
       "      <td>28.25</td>\n",
       "      <td>28.25</td>\n",
       "      <td>28.39</td>\n",
       "    </tr>\n",
       "  </tbody>\n",
       "</table>\n",
       "</div>"
      ],
      "text/plain": [
       "        Date   Open   High    Low  Close  Adj _Close  average\n",
       "0 2021-10-29  27.25  28.45  27.25  28.45       28.45    27.97\n",
       "1 2021-10-28  27.60  27.60  27.25  27.25       27.25    27.39\n",
       "2 2021-10-27  28.25  28.25  27.45  27.60       27.60    27.83\n",
       "3 2021-10-26  28.35  28.40  28.10  28.10       28.10    28.21\n",
       "4 2021-10-25  28.60  28.60  28.25  28.25       28.25    28.39"
      ]
     },
     "execution_count": 45,
     "metadata": {},
     "output_type": "execute_result"
    }
   ],
   "source": [
    "df.head()"
   ]
  },
  {
   "cell_type": "code",
   "execution_count": 43,
   "metadata": {},
   "outputs": [],
   "source": [
    "df.to_csv('Share_Price_Vienna_stage.csv')"
   ]
  }
 ],
 "metadata": {
  "kernelspec": {
   "display_name": "Python 3 (ipykernel)",
   "language": "python",
   "name": "python3"
  },
  "language_info": {
   "codemirror_mode": {
    "name": "ipython",
    "version": 3
   },
   "file_extension": ".py",
   "mimetype": "text/x-python",
   "name": "python",
   "nbconvert_exporter": "python",
   "pygments_lexer": "ipython3",
   "version": "3.9.5"
  }
 },
 "nbformat": 4,
 "nbformat_minor": 4
}
