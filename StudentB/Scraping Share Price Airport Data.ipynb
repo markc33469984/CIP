{
 "cells": [
  {
   "cell_type": "markdown",
   "metadata": {
    "scrolled": true
   },
   "source": [
    "# Scraping Zurich Airport Daily Share Price"
   ]
  },
  {
   "cell_type": "code",
   "execution_count": 2,
   "metadata": {},
   "outputs": [],
   "source": [
    "##Required packages\n",
    "import time\n",
    "from selenium import webdriver\n",
    "from selenium.webdriver.common.keys import Keys\n",
    "from selenium.webdriver.chrome.service import Service\n",
    "from selenium.webdriver.chrome.options import Options\n",
    "from webdriver_manager.chrome import ChromeDriverManager\n",
    "from selenium.webdriver.common.by import By\n",
    "import pandas as pd"
   ]
  },
  {
   "cell_type": "code",
   "execution_count": 3,
   "metadata": {},
   "outputs": [],
   "source": [
    "##Setting up the web driver\n",
    "\n",
    "chrome_options = Options() \n",
    "chrome_options.add_argument('--no-sandbox')\n",
    "chrome_options.add_argument('--headless')\n",
    "chrome_options.add_argument('--disable-dev-shm-usage')\n",
    "chrome_options.add_argument('--remote-debugging-port=9222') \n",
    "chrome_options.add_argument(\"start-maximized\")\n",
    "chrome_options.add_argument(\"disable-infobars\")\n",
    "chrome_options.add_argument(\"--disable-extensions\")\n",
    "chrome_options.add_argument(\"--disable-gpu\")\n",
    "chrome_options.add_argument(\"--start-maximized\") #open Browser in maximized mode\n",
    "chrome_options.add_argument(\"--disable-dev-shm-usage\") #overcome limited resource problems\n",
    "chrome_options.add_experimental_option(\"excludeSwitches\", [\"enable-automation\"])\n",
    "chrome_options.add_experimental_option('useAutomationExtension', False)\n",
    "\n",
    "driver = webdriver.Chrome('/home/student/Downloads/chromedriver_linux64 (2)/chromedriver',options=chrome_options)\n",
    "\n"
   ]
  },
  {
   "cell_type": "code",
   "execution_count": 4,
   "metadata": {},
   "outputs": [],
   "source": [
    "##fetching the url\n",
    "url = \"https://finance.yahoo.com/quote/FHZN.SW/history?period1=1546300800&period2=1635552000&interval=1d&filter=history&frequency=1d&includeAdjustedClose=true\"\n",
    "driver.get(url)\n"
   ]
  },
  {
   "cell_type": "code",
   "execution_count": 5,
   "metadata": {},
   "outputs": [
    {
     "name": "stdout",
     "output_type": "stream",
     "text": [
      "FHZN.SW 155.70 2.6 1.7 : Flughafen Zürich AG - Yahoo Finance\n"
     ]
    }
   ],
   "source": [
    "##checking if we have the correct page\n",
    "print(driver.title)"
   ]
  },
  {
   "cell_type": "code",
   "execution_count": 6,
   "metadata": {},
   "outputs": [
    {
     "data": {
      "text/html": [
       "<div>\n",
       "<style scoped>\n",
       "    .dataframe tbody tr th:only-of-type {\n",
       "        vertical-align: middle;\n",
       "    }\n",
       "\n",
       "    .dataframe tbody tr th {\n",
       "        vertical-align: top;\n",
       "    }\n",
       "\n",
       "    .dataframe thead th {\n",
       "        text-align: right;\n",
       "    }\n",
       "</style>\n",
       "<table border=\"1\" class=\"dataframe\">\n",
       "  <thead>\n",
       "    <tr style=\"text-align: right;\">\n",
       "      <th></th>\n",
       "      <th>Date</th>\n",
       "      <th>Open</th>\n",
       "      <th>High</th>\n",
       "      <th>Low</th>\n",
       "      <th>Close*</th>\n",
       "      <th>Adj Close**</th>\n",
       "      <th>Volume</th>\n",
       "    </tr>\n",
       "  </thead>\n",
       "  <tbody>\n",
       "    <tr>\n",
       "      <th>0</th>\n",
       "      <td>Oct 29, 2021</td>\n",
       "      <td>162.60</td>\n",
       "      <td>166.30</td>\n",
       "      <td>162.50</td>\n",
       "      <td>165.00</td>\n",
       "      <td>165.00</td>\n",
       "      <td>63012</td>\n",
       "    </tr>\n",
       "    <tr>\n",
       "      <th>1</th>\n",
       "      <td>Oct 28, 2021</td>\n",
       "      <td>162.60</td>\n",
       "      <td>165.00</td>\n",
       "      <td>160.20</td>\n",
       "      <td>163.20</td>\n",
       "      <td>163.20</td>\n",
       "      <td>33936</td>\n",
       "    </tr>\n",
       "    <tr>\n",
       "      <th>2</th>\n",
       "      <td>Oct 27, 2021</td>\n",
       "      <td>164.70</td>\n",
       "      <td>164.70</td>\n",
       "      <td>162.60</td>\n",
       "      <td>162.80</td>\n",
       "      <td>162.80</td>\n",
       "      <td>27598</td>\n",
       "    </tr>\n",
       "    <tr>\n",
       "      <th>3</th>\n",
       "      <td>Oct 26, 2021</td>\n",
       "      <td>162.00</td>\n",
       "      <td>166.60</td>\n",
       "      <td>161.50</td>\n",
       "      <td>165.00</td>\n",
       "      <td>165.00</td>\n",
       "      <td>40562</td>\n",
       "    </tr>\n",
       "    <tr>\n",
       "      <th>4</th>\n",
       "      <td>Oct 25, 2021</td>\n",
       "      <td>158.50</td>\n",
       "      <td>163.80</td>\n",
       "      <td>158.10</td>\n",
       "      <td>162.30</td>\n",
       "      <td>162.30</td>\n",
       "      <td>76400</td>\n",
       "    </tr>\n",
       "  </tbody>\n",
       "</table>\n",
       "</div>"
      ],
      "text/plain": [
       "           Date    Open    High     Low  Close* Adj Close** Volume\n",
       "0  Oct 29, 2021  162.60  166.30  162.50  165.00      165.00  63012\n",
       "1  Oct 28, 2021  162.60  165.00  160.20  163.20      163.20  33936\n",
       "2  Oct 27, 2021  164.70  164.70  162.60  162.80      162.80  27598\n",
       "3  Oct 26, 2021  162.00  166.60  161.50  165.00      165.00  40562\n",
       "4  Oct 25, 2021  158.50  163.80  158.10  162.30      162.30  76400"
      ]
     },
     "execution_count": 6,
     "metadata": {},
     "output_type": "execute_result"
    }
   ],
   "source": [
    "##Pointing Selenium where to go\n",
    "body = driver.find_element_by_tag_name(\"body\") ##the whole webpage\n",
    "\n",
    "##scroll down 60 times to get all the required data\n",
    "no_of_pagedowns = 60\n",
    "\n",
    "while no_of_pagedowns:\n",
    "    body.send_keys(Keys.PAGE_DOWN)\n",
    "    time.sleep(0.2)\n",
    "    no_of_pagedowns-=1\n",
    "\n",
    "##find the table\n",
    "data = driver.find_element_by_xpath(\"/html/body/div[1]/div/div/div[1]/div/div[3]/div[1]/div/div[2]/div/div/section/div[2]/table\").get_attribute('outerHTML') ##to get the HTML code of the selected element\n",
    "\n",
    "##fetching the html table and save it as a dataframe\n",
    "df =pd.read_html(data)[0] ##pd.read_html returns a list, so we access its first (and only) element\n",
    "df.head()"
   ]
  },
  {
   "cell_type": "code",
   "execution_count": null,
   "metadata": {},
   "outputs": [],
   "source": [
    "##export dataframe\n",
    "df.to_csv('share_price_Zurich.csv', index= False)"
   ]
  },
  {
   "cell_type": "markdown",
   "metadata": {},
   "source": [
    "# Scraping Vienna Airport Daily Share Price"
   ]
  },
  {
   "cell_type": "code",
   "execution_count": null,
   "metadata": {},
   "outputs": [],
   "source": [
    "##setting up the web driver\n",
    "##Setting up the web driver\n",
    "\n",
    "chrome_options = Options() \n",
    "chrome_options.add_argument('--no-sandbox')\n",
    "chrome_options.add_argument('--headless')\n",
    "chrome_options.add_argument('--disable-dev-shm-usage')\n",
    "chrome_options.add_argument('--remote-debugging-port=9222') \n",
    "chrome_options.add_argument(\"start-maximized\")\n",
    "chrome_options.add_argument(\"disable-infobars\")\n",
    "chrome_options.add_argument(\"--disable-extensions\")\n",
    "chrome_options.add_argument(\"--disable-gpu\")\n",
    "chrome_options.add_argument(\"--start-maximized\") #open Browser in maximized mode\n",
    "chrome_options.add_argument(\"--disable-dev-shm-usage\") #overcome limited resource problems\n",
    "chrome_options.add_experimental_option(\"excludeSwitches\", [\"enable-automation\"])\n",
    "chrome_options.add_experimental_option('useAutomationExtension', False)\n",
    "\n",
    "driver = webdriver.Chrome('/home/student/Downloads/chromedriver_linux64 (2)/chromedriver',options=chrome_options)\n",
    "\n"
   ]
  },
  {
   "cell_type": "code",
   "execution_count": 7,
   "metadata": {},
   "outputs": [
    {
     "name": "stdout",
     "output_type": "stream",
     "text": [
      "FLUGHAFEN WIEN AG (FLW1.BE) Stock Historical Prices & Data - Yahoo Finance\n"
     ]
    }
   ],
   "source": [
    "##fetching the url\n",
    "url = \"https://finance.yahoo.com/quote/FLW1.BE/history?period1=1546300800&period2=1635552000&interval=1d&filter=history&frequency=1d&includeAdjustedClose=true\"\n",
    "driver.get(url)\n",
    "print(driver.title) ##checkpoint\n"
   ]
  },
  {
   "cell_type": "code",
   "execution_count": 8,
   "metadata": {},
   "outputs": [
    {
     "data": {
      "text/html": [
       "<div>\n",
       "<style scoped>\n",
       "    .dataframe tbody tr th:only-of-type {\n",
       "        vertical-align: middle;\n",
       "    }\n",
       "\n",
       "    .dataframe tbody tr th {\n",
       "        vertical-align: top;\n",
       "    }\n",
       "\n",
       "    .dataframe thead th {\n",
       "        text-align: right;\n",
       "    }\n",
       "</style>\n",
       "<table border=\"1\" class=\"dataframe\">\n",
       "  <thead>\n",
       "    <tr style=\"text-align: right;\">\n",
       "      <th></th>\n",
       "      <th>Date</th>\n",
       "      <th>Open</th>\n",
       "      <th>High</th>\n",
       "      <th>Low</th>\n",
       "      <th>Close*</th>\n",
       "      <th>Adj Close**</th>\n",
       "      <th>Volume</th>\n",
       "    </tr>\n",
       "  </thead>\n",
       "  <tbody>\n",
       "    <tr>\n",
       "      <th>0</th>\n",
       "      <td>Oct 29, 2021</td>\n",
       "      <td>27.25</td>\n",
       "      <td>28.45</td>\n",
       "      <td>27.25</td>\n",
       "      <td>28.45</td>\n",
       "      <td>28.45</td>\n",
       "      <td>-</td>\n",
       "    </tr>\n",
       "    <tr>\n",
       "      <th>1</th>\n",
       "      <td>Oct 28, 2021</td>\n",
       "      <td>27.60</td>\n",
       "      <td>27.60</td>\n",
       "      <td>27.25</td>\n",
       "      <td>27.25</td>\n",
       "      <td>27.25</td>\n",
       "      <td>-</td>\n",
       "    </tr>\n",
       "    <tr>\n",
       "      <th>2</th>\n",
       "      <td>Oct 27, 2021</td>\n",
       "      <td>28.25</td>\n",
       "      <td>28.25</td>\n",
       "      <td>27.45</td>\n",
       "      <td>27.60</td>\n",
       "      <td>27.60</td>\n",
       "      <td>-</td>\n",
       "    </tr>\n",
       "    <tr>\n",
       "      <th>3</th>\n",
       "      <td>Oct 26, 2021</td>\n",
       "      <td>28.35</td>\n",
       "      <td>28.40</td>\n",
       "      <td>28.10</td>\n",
       "      <td>28.10</td>\n",
       "      <td>28.10</td>\n",
       "      <td>-</td>\n",
       "    </tr>\n",
       "    <tr>\n",
       "      <th>4</th>\n",
       "      <td>Oct 25, 2021</td>\n",
       "      <td>28.60</td>\n",
       "      <td>28.60</td>\n",
       "      <td>28.25</td>\n",
       "      <td>28.25</td>\n",
       "      <td>28.25</td>\n",
       "      <td>-</td>\n",
       "    </tr>\n",
       "  </tbody>\n",
       "</table>\n",
       "</div>"
      ],
      "text/plain": [
       "           Date   Open   High    Low Close* Adj Close** Volume\n",
       "0  Oct 29, 2021  27.25  28.45  27.25  28.45       28.45      -\n",
       "1  Oct 28, 2021  27.60  27.60  27.25  27.25       27.25      -\n",
       "2  Oct 27, 2021  28.25  28.25  27.45  27.60       27.60      -\n",
       "3  Oct 26, 2021  28.35  28.40  28.10  28.10       28.10      -\n",
       "4  Oct 25, 2021  28.60  28.60  28.25  28.25       28.25      -"
      ]
     },
     "execution_count": 8,
     "metadata": {},
     "output_type": "execute_result"
    }
   ],
   "source": [
    "##pointing Selenium where to look\n",
    "body = driver.find_element_by_tag_name(\"body\") ##the whole webpage\n",
    "\n",
    "##scroll down 60 times to get all the required data\n",
    "no_of_pagedowns = 60\n",
    "while no_of_pagedowns:\n",
    "    body.send_keys(Keys.PAGE_DOWN)\n",
    "    time.sleep(0.2)\n",
    "    no_of_pagedowns-=1\n",
    "    \n",
    "##find the table\n",
    "data = driver.find_element_by_xpath(\"/html/body/div[1]/div/div/div[1]/div/div[3]/div[1]/div/div[2]/div/div/section/div[2]/table\").get_attribute('outerHTML') ##to get the HTML code of the selected tag\n",
    "\n",
    "##fetching the html table and save it as a dataframe\n",
    "df =pd.read_html(data)[0] ##pd.read_html returns a list, so we access its first (and only) element\n",
    "df.head()"
   ]
  },
  {
   "cell_type": "code",
   "execution_count": null,
   "metadata": {},
   "outputs": [],
   "source": [
    "##exporting dataset\n",
    "df.to_csv('share_price_Vienna.csv', index= False)"
   ]
  }
 ],
 "metadata": {
  "kernelspec": {
   "display_name": "Python 3 (ipykernel)",
   "language": "python",
   "name": "python3"
  },
  "language_info": {
   "codemirror_mode": {
    "name": "ipython",
    "version": 3
   },
   "file_extension": ".py",
   "mimetype": "text/x-python",
   "name": "python",
   "nbconvert_exporter": "python",
   "pygments_lexer": "ipython3",
   "version": "3.9.5"
  }
 },
 "nbformat": 4,
 "nbformat_minor": 4
}
