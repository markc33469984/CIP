{
 "cells": [
  {
   "cell_type": "markdown",
   "metadata": {},
   "source": [
    "# Scraping ESG Ratings for Flughafen Zürich AG"
   ]
  },
  {
   "cell_type": "code",
   "execution_count": null,
   "metadata": {},
   "outputs": [],
   "source": [
    "import requests\n",
    "from bs4 import BeautifulSoup"
   ]
  },
  {
   "cell_type": "code",
   "execution_count": 15,
   "metadata": {},
   "outputs": [
    {
     "name": "stdout",
     "output_type": "stream",
     "text": [
      "200\n"
     ]
    }
   ],
   "source": [
    "##fetching the url\n",
    "headers = {'User-Agent': 'Mozilla/5.0 (Windows NT 10.0; Win64; x64) AppleWebKit/537.36 (KHTML, like Gecko) Chrome/96.0.4664.45 Safari/537.36 Edg/96.0.1054.29'}\n",
    "r = requests.get(\"https://finance.yahoo.com/quote/FHZN.SW/sustainability/\", headers=headers)\n",
    "print(r.status_code)"
   ]
  },
  {
   "cell_type": "code",
   "execution_count": null,
   "metadata": {},
   "outputs": [],
   "source": [
    "print(r.content)"
   ]
  },
  {
   "cell_type": "code",
   "execution_count": 16,
   "metadata": {},
   "outputs": [],
   "source": [
    "##searching for the elements containing the relevant information\n",
    "soup = BeautifulSoup(r.content, \"html.parser\")\n",
    "\n",
    "##1.Total ESG Score\n",
    "for i in soup.find_all(\"div\", {\"class\":\"Fz(36px) Fw(600) D(ib) Mend(5px)\"}):\n",
    "    ESG_score = i.text\n",
    "\n",
    "##2.percentile\n",
    "for i in soup.find_all(\"span\", {\"class\":\"Bdstarts(s) Bdstartw(0.5px) Pstart(10px) Bdc($seperatorColor) Fz(12px) smartphone_Bd(n) Fw(500)\"}):\n",
    "    percentile = i.text\n",
    "\n",
    "##3.level\n",
    "for i in soup.find_all(\"div\", {\"class\":\"Fz(s) Fw(500) smartphone_Pstart(4px)\"}):\n",
    "    level = i.text\n",
    "\n",
    "##4.environment risk score,##social risk score,##Governance risk score\n",
    "rating = []\n",
    "for i in soup.find_all(\"div\", {\"class\":\"D(ib) Mt(10px) smartphone_Mt(5px)\"}):\n",
    "    rating.append(i.text)\n",
    "\n",
    "    \n",
    "##creating a dict to store the information\n",
    "my_dict = {'ESG_score': ESG_score, 'percentile':percentile, 'level':level, \n",
    "               'Environment_Risk_Score':rating[0],\n",
    "               'Social_Risk_Score':rating[1],\n",
    "               'Governance_Risk_Score':rating[2]}\n"
   ]
  },
  {
   "cell_type": "code",
   "execution_count": 17,
   "metadata": {},
   "outputs": [],
   "source": [
    "##transforming the dict to a dataframe\n",
    "import pandas as pd\n",
    "df = pd.DataFrame.from_dict(my_dict, orient = 'index', columns = ['Flughafen Zürich AG'])"
   ]
  },
  {
   "cell_type": "code",
   "execution_count": 18,
   "metadata": {},
   "outputs": [
    {
     "data": {
      "text/html": [
       "<div>\n",
       "<style scoped>\n",
       "    .dataframe tbody tr th:only-of-type {\n",
       "        vertical-align: middle;\n",
       "    }\n",
       "\n",
       "    .dataframe tbody tr th {\n",
       "        vertical-align: top;\n",
       "    }\n",
       "\n",
       "    .dataframe thead th {\n",
       "        text-align: right;\n",
       "    }\n",
       "</style>\n",
       "<table border=\"1\" class=\"dataframe\">\n",
       "  <thead>\n",
       "    <tr style=\"text-align: right;\">\n",
       "      <th></th>\n",
       "      <th>Flughafen Zürich AG</th>\n",
       "    </tr>\n",
       "  </thead>\n",
       "  <tbody>\n",
       "    <tr>\n",
       "      <th>ESG_score</th>\n",
       "      <td>23</td>\n",
       "    </tr>\n",
       "    <tr>\n",
       "      <th>percentile</th>\n",
       "      <td>34th percentile</td>\n",
       "    </tr>\n",
       "    <tr>\n",
       "      <th>level</th>\n",
       "      <td>Medium</td>\n",
       "    </tr>\n",
       "    <tr>\n",
       "      <th>Environment_Risk_Score</th>\n",
       "      <td>4.3</td>\n",
       "    </tr>\n",
       "    <tr>\n",
       "      <th>Social_Risk_Score</th>\n",
       "      <td>12.3</td>\n",
       "    </tr>\n",
       "    <tr>\n",
       "      <th>Governance_Risk_Score</th>\n",
       "      <td>6.6</td>\n",
       "    </tr>\n",
       "  </tbody>\n",
       "</table>\n",
       "</div>"
      ],
      "text/plain": [
       "                       Flughafen Zürich AG\n",
       "ESG_score                               23\n",
       "percentile                 34th percentile\n",
       "level                               Medium\n",
       "Environment_Risk_Score                 4.3\n",
       "Social_Risk_Score                     12.3\n",
       "Governance_Risk_Score                  6.6"
      ]
     },
     "execution_count": 18,
     "metadata": {},
     "output_type": "execute_result"
    }
   ],
   "source": [
    "df"
   ]
  },
  {
   "cell_type": "markdown",
   "metadata": {},
   "source": [
    "# Adding ESG Ratings of other airport companies to the dataframe "
   ]
  },
  {
   "cell_type": "code",
   "execution_count": null,
   "metadata": {},
   "outputs": [],
   "source": [
    "##transpose the dataframe to add more rows\n",
    "df_transposed = df.T"
   ]
  },
  {
   "cell_type": "code",
   "execution_count": 21,
   "metadata": {},
   "outputs": [],
   "source": [
    "df = df_transposed"
   ]
  },
  {
   "cell_type": "code",
   "execution_count": 22,
   "metadata": {},
   "outputs": [
    {
     "data": {
      "text/html": [
       "<div>\n",
       "<style scoped>\n",
       "    .dataframe tbody tr th:only-of-type {\n",
       "        vertical-align: middle;\n",
       "    }\n",
       "\n",
       "    .dataframe tbody tr th {\n",
       "        vertical-align: top;\n",
       "    }\n",
       "\n",
       "    .dataframe thead th {\n",
       "        text-align: right;\n",
       "    }\n",
       "</style>\n",
       "<table border=\"1\" class=\"dataframe\">\n",
       "  <thead>\n",
       "    <tr style=\"text-align: right;\">\n",
       "      <th></th>\n",
       "      <th>index</th>\n",
       "      <th>ESG_score</th>\n",
       "      <th>percentile</th>\n",
       "      <th>level</th>\n",
       "      <th>Environment_Risk_Score</th>\n",
       "      <th>Social_Risk_Score</th>\n",
       "      <th>Governance_Risk_Score</th>\n",
       "    </tr>\n",
       "  </thead>\n",
       "  <tbody>\n",
       "    <tr>\n",
       "      <th>0</th>\n",
       "      <td>Flughafen Zürich AG</td>\n",
       "      <td>23</td>\n",
       "      <td>34th percentile</td>\n",
       "      <td>Medium</td>\n",
       "      <td>4.3</td>\n",
       "      <td>12.3</td>\n",
       "      <td>6.6</td>\n",
       "    </tr>\n",
       "  </tbody>\n",
       "</table>\n",
       "</div>"
      ],
      "text/plain": [
       "                 index ESG_score       percentile   level  \\\n",
       "0  Flughafen Zürich AG        23  34th percentile  Medium   \n",
       "\n",
       "  Environment_Risk_Score Social_Risk_Score Governance_Risk_Score  \n",
       "0                    4.3              12.3                   6.6  "
      ]
     },
     "execution_count": 22,
     "metadata": {},
     "output_type": "execute_result"
    }
   ],
   "source": [
    "df.reset_index(inplace=True)\n",
    "df.head()"
   ]
  },
  {
   "cell_type": "code",
   "execution_count": 23,
   "metadata": {},
   "outputs": [
    {
     "data": {
      "text/html": [
       "<div>\n",
       "<style scoped>\n",
       "    .dataframe tbody tr th:only-of-type {\n",
       "        vertical-align: middle;\n",
       "    }\n",
       "\n",
       "    .dataframe tbody tr th {\n",
       "        vertical-align: top;\n",
       "    }\n",
       "\n",
       "    .dataframe thead th {\n",
       "        text-align: right;\n",
       "    }\n",
       "</style>\n",
       "<table border=\"1\" class=\"dataframe\">\n",
       "  <thead>\n",
       "    <tr style=\"text-align: right;\">\n",
       "      <th></th>\n",
       "      <th>Airport</th>\n",
       "      <th>ESG_score</th>\n",
       "      <th>percentile</th>\n",
       "      <th>level</th>\n",
       "      <th>Environment_Risk_Score</th>\n",
       "      <th>Social_Risk_Score</th>\n",
       "      <th>Governance_Risk_Score</th>\n",
       "    </tr>\n",
       "  </thead>\n",
       "  <tbody>\n",
       "    <tr>\n",
       "      <th>0</th>\n",
       "      <td>Flughafen Zürich AG</td>\n",
       "      <td>23</td>\n",
       "      <td>34th percentile</td>\n",
       "      <td>Medium</td>\n",
       "      <td>4.3</td>\n",
       "      <td>12.3</td>\n",
       "      <td>6.6</td>\n",
       "    </tr>\n",
       "  </tbody>\n",
       "</table>\n",
       "</div>"
      ],
      "text/plain": [
       "               Airport ESG_score       percentile   level  \\\n",
       "0  Flughafen Zürich AG        23  34th percentile  Medium   \n",
       "\n",
       "  Environment_Risk_Score Social_Risk_Score Governance_Risk_Score  \n",
       "0                    4.3              12.3                   6.6  "
      ]
     },
     "execution_count": 23,
     "metadata": {},
     "output_type": "execute_result"
    }
   ],
   "source": [
    "df.rename(columns={'index': 'Airport'}, inplace=True)\n",
    "df"
   ]
  },
  {
   "cell_type": "code",
   "execution_count": 198,
   "metadata": {},
   "outputs": [],
   "source": [
    "##adding empty rows to fill up later\n",
    "df.loc[df.shape[0]] = [None, None, None, None, None, None, None]"
   ]
  },
  {
   "cell_type": "code",
   "execution_count": 205,
   "metadata": {},
   "outputs": [],
   "source": [
    "##filling up the rows\n",
    "df.iloc[1] = ['Aéroports de Paris SA', 16.7 , None, 'Low', None, None, None]\n",
    "df.iloc[2] = ['Airports of Thailand PCL', 16.6 , None, 'Low', None, None, None]\n",
    "df.iloc[3] = ['Malaysia Airports Holdings Berhad', 20.1 , None, 'Medium', None, None, None]\n",
    "df.iloc[4] = ['Flughafen Wien AG', 20 , None, 'Medium', None, None, None]\n",
    "df.iloc[5] = ['Airport City Ltd', None , None, None , None, None, None]\n",
    "df.iloc[6] = ['AIRPORT FACILITIES Co. LTD', None, None, None, None, None, None]"
   ]
  },
  {
   "cell_type": "code",
   "execution_count": 206,
   "metadata": {},
   "outputs": [
    {
     "data": {
      "text/html": [
       "<div>\n",
       "<style scoped>\n",
       "    .dataframe tbody tr th:only-of-type {\n",
       "        vertical-align: middle;\n",
       "    }\n",
       "\n",
       "    .dataframe tbody tr th {\n",
       "        vertical-align: top;\n",
       "    }\n",
       "\n",
       "    .dataframe thead th {\n",
       "        text-align: right;\n",
       "    }\n",
       "</style>\n",
       "<table border=\"1\" class=\"dataframe\">\n",
       "  <thead>\n",
       "    <tr style=\"text-align: right;\">\n",
       "      <th></th>\n",
       "      <th>Airport</th>\n",
       "      <th>ESG_score</th>\n",
       "      <th>percentile</th>\n",
       "      <th>level</th>\n",
       "      <th>Environment_Risk_Score</th>\n",
       "      <th>Social_Risk_Score</th>\n",
       "      <th>Governance_Risk_Score</th>\n",
       "    </tr>\n",
       "  </thead>\n",
       "  <tbody>\n",
       "    <tr>\n",
       "      <th>0</th>\n",
       "      <td>Flughafen Zürich AG</td>\n",
       "      <td>23</td>\n",
       "      <td>34th percentile</td>\n",
       "      <td>Medium</td>\n",
       "      <td>4.3</td>\n",
       "      <td>12.3</td>\n",
       "      <td>6.6</td>\n",
       "    </tr>\n",
       "    <tr>\n",
       "      <th>1</th>\n",
       "      <td>Aéroports de Paris SA</td>\n",
       "      <td>16.7</td>\n",
       "      <td>None</td>\n",
       "      <td>Low</td>\n",
       "      <td>None</td>\n",
       "      <td>None</td>\n",
       "      <td>None</td>\n",
       "    </tr>\n",
       "    <tr>\n",
       "      <th>2</th>\n",
       "      <td>Airports of Thailand PCL</td>\n",
       "      <td>16.6</td>\n",
       "      <td>None</td>\n",
       "      <td>Low</td>\n",
       "      <td>None</td>\n",
       "      <td>None</td>\n",
       "      <td>None</td>\n",
       "    </tr>\n",
       "    <tr>\n",
       "      <th>3</th>\n",
       "      <td>Malaysia Airports Holdings Berhad</td>\n",
       "      <td>20.1</td>\n",
       "      <td>None</td>\n",
       "      <td>Medium</td>\n",
       "      <td>None</td>\n",
       "      <td>None</td>\n",
       "      <td>None</td>\n",
       "    </tr>\n",
       "    <tr>\n",
       "      <th>4</th>\n",
       "      <td>Flughafen Wien AG</td>\n",
       "      <td>20</td>\n",
       "      <td>None</td>\n",
       "      <td>Medium</td>\n",
       "      <td>None</td>\n",
       "      <td>None</td>\n",
       "      <td>None</td>\n",
       "    </tr>\n",
       "    <tr>\n",
       "      <th>5</th>\n",
       "      <td>Airport City Ltd</td>\n",
       "      <td>None</td>\n",
       "      <td>None</td>\n",
       "      <td>None</td>\n",
       "      <td>None</td>\n",
       "      <td>None</td>\n",
       "      <td>None</td>\n",
       "    </tr>\n",
       "    <tr>\n",
       "      <th>6</th>\n",
       "      <td>AIRPORT FACILITIES Co. LTD</td>\n",
       "      <td>None</td>\n",
       "      <td>None</td>\n",
       "      <td>None</td>\n",
       "      <td>None</td>\n",
       "      <td>None</td>\n",
       "      <td>None</td>\n",
       "    </tr>\n",
       "  </tbody>\n",
       "</table>\n",
       "</div>"
      ],
      "text/plain": [
       "                             Airport ESG_score       percentile   level  \\\n",
       "0                Flughafen Zürich AG        23  34th percentile  Medium   \n",
       "1              Aéroports de Paris SA      16.7             None     Low   \n",
       "2           Airports of Thailand PCL      16.6             None     Low   \n",
       "3  Malaysia Airports Holdings Berhad      20.1             None  Medium   \n",
       "4                  Flughafen Wien AG        20             None  Medium   \n",
       "5                   Airport City Ltd      None             None    None   \n",
       "6         AIRPORT FACILITIES Co. LTD      None             None    None   \n",
       "\n",
       "  Environment_Risk_Score Social_Risk_Score Governance_Risk_Score  \n",
       "0                    4.3              12.3                   6.6  \n",
       "1                   None              None                  None  \n",
       "2                   None              None                  None  \n",
       "3                   None              None                  None  \n",
       "4                   None              None                  None  \n",
       "5                   None              None                  None  \n",
       "6                   None              None                  None  "
      ]
     },
     "execution_count": 206,
     "metadata": {},
     "output_type": "execute_result"
    }
   ],
   "source": [
    "df"
   ]
  },
  {
   "cell_type": "code",
   "execution_count": 207,
   "metadata": {},
   "outputs": [],
   "source": [
    "df.to_csv('ESG_ratings_stage.csv')"
   ]
  },
  {
   "cell_type": "code",
   "execution_count": null,
   "metadata": {},
   "outputs": [],
   "source": []
  },
  {
   "cell_type": "code",
   "execution_count": null,
   "metadata": {},
   "outputs": [],
   "source": []
  },
  {
   "cell_type": "code",
   "execution_count": null,
   "metadata": {},
   "outputs": [],
   "source": []
  },
  {
   "cell_type": "code",
   "execution_count": null,
   "metadata": {},
   "outputs": [],
   "source": []
  }
 ],
 "metadata": {
  "kernelspec": {
   "display_name": "Python 3 (ipykernel)",
   "language": "python",
   "name": "python3"
  },
  "language_info": {
   "codemirror_mode": {
    "name": "ipython",
    "version": 3
   },
   "file_extension": ".py",
   "mimetype": "text/x-python",
   "name": "python",
   "nbconvert_exporter": "python",
   "pygments_lexer": "ipython3",
   "version": "3.9.5"
  }
 },
 "nbformat": 4,
 "nbformat_minor": 4
}
