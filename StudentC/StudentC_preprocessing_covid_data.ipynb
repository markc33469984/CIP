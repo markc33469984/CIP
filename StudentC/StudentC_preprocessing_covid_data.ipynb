{
 "cells": [
  {
   "cell_type": "code",
   "execution_count": 1,
   "id": "e2bb314f",
   "metadata": {},
   "outputs": [],
   "source": [
    "#!/usr/bin/env python\n",
    "# coding: utf-8\n",
    "\n",
    "# The following code is to clean up the covid data"
   ]
  },
  {
   "cell_type": "code",
   "execution_count": 2,
   "id": "fa0ad3e0",
   "metadata": {},
   "outputs": [],
   "source": [
    "import pandas as pd\n",
    "import numpy as np"
   ]
  },
  {
   "cell_type": "code",
   "execution_count": 3,
   "id": "c69c101a",
   "metadata": {},
   "outputs": [
    {
     "name": "stdout",
     "output_type": "stream",
     "text": [
      "Index(['location', 'continent', 'date', 'total_cases', 'new_cases',\n",
      "       'stringency_index', 'population'],\n",
      "      dtype='object')\n",
      "The size of the dataframe is: (135382, 7)\n"
     ]
    },
    {
     "name": "stderr",
     "output_type": "stream",
     "text": [
      "/home/student/venv/pds01-jpy-3.9/lib/python3.9/site-packages/IPython/core/interactiveshell.py:3441: DtypeWarning: Columns (6) have mixed types.Specify dtype option on import or set low_memory=False.\n",
      "  exec(code_obj, self.user_global_ns, self.user_ns)\n"
     ]
    }
   ],
   "source": [
    "# Read the .csv file \n",
    "covid_data = pd.read_csv(\"/home/student/Project/StudentC_SourceF_covid19_dirty.csv\")\n",
    "\n",
    "# Get column names from the table\n",
    "print(covid_data.columns)\n",
    "\n",
    "# Change the column name 'location' to 'country'\n",
    "covid_data = covid_data.rename(columns={\"location\": \"country\"})\n",
    "print(\"The size of the dataframe is:\",covid_data.shape)"
   ]
  },
  {
   "cell_type": "code",
   "execution_count": 4,
   "id": "e250b951",
   "metadata": {
    "scrolled": true
   },
   "outputs": [
    {
     "name": "stdout",
     "output_type": "stream",
     "text": [
      "country\n",
      "Africa                 650\n",
      "Asia                   672\n",
      "Europe                 671\n",
      "European Union         671\n",
      "High income            672\n",
      "International          656\n",
      "Low income             640\n",
      "Lower middle income    672\n",
      "North America          672\n",
      "Oceania                669\n",
      "South America          641\n",
      "Upper middle income    672\n",
      "World                  672\n",
      "Name: continent, dtype: int64\n"
     ]
    }
   ],
   "source": [
    "## NULL VALUES\n",
    "\n",
    "# Check for which countries that do not have corresponding continents filled\n",
    "continent_missing = covid_data[\"continent\"].isnull().groupby(covid_data['country']).sum()\n",
    "\n",
    "# Enlist the countries where there is no corresponding continent data\n",
    "print(continent_missing[continent_missing > 0])\n",
    "\n",
    "\n",
    "# Since the listed 'countries' names of continents or groups of countries, These are summed data and redundant \n",
    "# and can be removed from the dataframe\n",
    "countries_continent_null = ['Africa','Asia','Europe','European Union','High income','International','Low income',\n",
    "'Lower middle income','North America','Oceania','South America','Upper middle income','World']\n",
    "\n",
    "# Remove the above countries from covid_data\n",
    "covid_data = covid_data[~covid_data.country.isin(countries_continent_null)]"
   ]
  },
  {
   "cell_type": "code",
   "execution_count": 5,
   "id": "742f53e0",
   "metadata": {},
   "outputs": [
    {
     "name": "stdout",
     "output_type": "stream",
     "text": [
      "Maximum number of total_cases data available for a country is 675\n"
     ]
    }
   ],
   "source": [
    "## MISSING VALUES\n",
    "\n",
    "# Check for the count of total_case data for countries \n",
    "count_total_cases = covid_data[\"total_cases\"].groupby(covid_data['country']).count()\n",
    "print(\"Maximum number of total_cases data available for a country is\", max(count_total_cases))\n",
    "\n",
    "\n",
    "# Based on the maximum number of data available for a country, it is sensible to remove any country \n",
    "# with missing values more than 200 or has less than 400 non-missing values. \n",
    "# These countries can be listed as follows:\n",
    "countries_total_missing = count_total_cases[count_total_cases< 400]\n",
    "\n",
    "# Remove these countries \n",
    "covid_data = covid_data[~covid_data.country.isin(list(countries_total_missing.index))]\n",
    "\n",
    "# The remaining countries with missing total cases will be filled later"
   ]
  },
  {
   "cell_type": "code",
   "execution_count": 6,
   "id": "1a08352a",
   "metadata": {},
   "outputs": [],
   "source": [
    "## DUPLICATE DATA\n",
    "\n",
    "# Check for duplicates in the dataframe\n",
    "duplicates = covid_data[covid_data.duplicated()]\n",
    "duplicates_index = duplicates.index\n",
    "# Remove the duplicated records from the dataframe\n",
    "covid_data = covid_data.drop(list(duplicates_index))"
   ]
  },
  {
   "cell_type": "code",
   "execution_count": 7,
   "id": "52c7d31e",
   "metadata": {},
   "outputs": [
    {
     "name": "stdout",
     "output_type": "stream",
     "text": [
      "Number of countries with stringency_index missings: 187\n",
      "Number of countries with total_cases missing: 187\n",
      "Number of countires with new_cases missing 41\n"
     ]
    }
   ],
   "source": [
    "## FORWARD FILLING FOR MISSING VALUES\n",
    "\n",
    "# Countries with NULL values in stringency_index and total_cases\n",
    "countries_missing_stringency = covid_data[\"stringency_index\"].isnull().groupby(covid_data['country']).sum() \n",
    "countries_missing_total = covid_data[\"total_cases\"].isnull().groupby(covid_data['country']).sum() \n",
    "print(\"Number of countries with stringency_index missings:\", len(countries_missing_stringency))\n",
    "print(\"Number of countries with total_cases missing:\", len(countries_missing_total))\n",
    "\n",
    "# Forward filling for stringency_index and total_cases\n",
    "covid_data[\"stringency_index\"].fillna(method = 'ffill', inplace=True)\n",
    "covid_data[\"total_cases\"].fillna(method = 'ffill', inplace = True)\n",
    "\n",
    "# Check for missing values in new_cases\n",
    "countries_missing_newcase = covid_data[\"new_cases\"].isnull().groupby(covid_data['country']).sum() \n",
    "print(\"Number of countires with new_cases missing\", len(countries_missing_newcase[countries_missing_newcase > 0]))\n",
    "\n",
    "# Fill new_cases missing values with 0\n",
    "covid_data[\"new_cases\"].fillna(0, inplace = True)"
   ]
  },
  {
   "cell_type": "code",
   "execution_count": 10,
   "id": "31168568",
   "metadata": {},
   "outputs": [
    {
     "name": "stdout",
     "output_type": "stream",
     "text": [
      "country                     object\n",
      "continent                   object\n",
      "date                datetime64[ns]\n",
      "total_cases                float64\n",
      "new_cases                  float64\n",
      "stringency_index           float64\n",
      "population                   int64\n",
      "dtype: object\n"
     ]
    }
   ],
   "source": [
    "## FIXING DATA TYPES\n",
    "\n",
    "# Check for data type of data in all columns in the dataframe\n",
    "print(covid_data.dtypes)\n",
    "\n",
    "# Since the data type of the date column is not in the correct date type, change this to the datetime type\n",
    "covid_data[\"date\"] = pd.to_datetime(covid_data[\"date\"])"
   ]
  },
  {
   "cell_type": "code",
   "execution_count": 9,
   "id": "ce2b4321",
   "metadata": {},
   "outputs": [
    {
     "name": "stdout",
     "output_type": "stream",
     "text": [
      "0\n"
     ]
    },
    {
     "name": "stderr",
     "output_type": "stream",
     "text": [
      "/tmp/ipykernel_678461/3705525269.py:8: SettingWithCopyWarning: \n",
      "A value is trying to be set on a copy of a slice from a DataFrame\n",
      "\n",
      "See the caveats in the documentation: https://pandas.pydata.org/pandas-docs/stable/user_guide/indexing.html#returning-a-view-versus-a-copy\n",
      "  covid_data.population[covid_data.population.str.isnumeric()==False] = np.NaN\n"
     ]
    }
   ],
   "source": [
    "## TEXT - NUMBER MISMATCH\n",
    "\n",
    "# The 'population' column has a data type 'object'. Since it is meant to be numeric,\n",
    "# examine if the column can be converted to a numeric type. First check for NULL values\n",
    "print(covid_data.population.isnull().sum())\n",
    "\n",
    "# All values are filled. Convert all non-numeric values to NULL\n",
    "covid_data.population[covid_data.population.str.isnumeric()==False] = np.NaN\n",
    "\n",
    "# Fowrard fill the above generated NULL values\n",
    "covid_data[\"population\"].fillna(method = 'ffill', inplace = True)\n",
    "\n",
    "# Convert the population data type to float64\n",
    "covid_data.population = pd.to_numeric(covid_data.population)"
   ]
  },
  {
   "cell_type": "code",
   "execution_count": null,
   "id": "215fbce6",
   "metadata": {},
   "outputs": [],
   "source": [
    "## ENRICHING\n",
    "# Introducing a new column for population in millions\n",
    "covid_data['population_mio'] = covid_data['population']/1000000\n",
    "covid_data\n",
    "\n"
   ]
  },
  {
   "cell_type": "code",
   "execution_count": null,
   "id": "1691af29",
   "metadata": {},
   "outputs": [],
   "source": [
    "covid_data.to_csv(\"StudentC_SourceF_covid19_stage.csv\")"
   ]
  },
  {
   "cell_type": "code",
   "execution_count": null,
   "id": "d1e06583",
   "metadata": {},
   "outputs": [],
   "source": []
  },
  {
   "cell_type": "code",
   "execution_count": null,
   "id": "8c7c5073",
   "metadata": {},
   "outputs": [],
   "source": []
  }
 ],
 "metadata": {
  "kernelspec": {
   "display_name": "Python 3 (ipykernel)",
   "language": "python",
   "name": "python3"
  },
  "language_info": {
   "codemirror_mode": {
    "name": "ipython",
    "version": 3
   },
   "file_extension": ".py",
   "mimetype": "text/x-python",
   "name": "python",
   "nbconvert_exporter": "python",
   "pygments_lexer": "ipython3",
   "version": "3.9.5"
  }
 },
 "nbformat": 4,
 "nbformat_minor": 5
}
